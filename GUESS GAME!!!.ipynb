{
 "cells": [
  {
   "cell_type": "markdown",
   "id": "8c808556",
   "metadata": {},
   "source": [
    "# GUESS GAME!!!\n"
   ]
  },
  {
   "cell_type": "code",
   "execution_count": 1,
   "id": "395ac993",
   "metadata": {},
   "outputs": [
    {
     "name": "stdout",
     "output_type": "stream",
     "text": [
      "Welcome to Guessing game!Lets play!!\n",
      "Guess a number between 1 to 10\n",
      "Enter your Guess: 5\n",
      "Your Guess is too High!\n",
      "Enter your Guess: 3\n",
      "you Guess is too Low!\n",
      "Enter your Guess: 4\n",
      "Congratulations!!You guessed right..!\n"
     ]
    }
   ],
   "source": [
    "import random\n",
    "computer_guess=random.randint(1,10)\n",
    "print(\"Welcome to Guessing game!Lets play!!\")\n",
    "print(\"Guess a number between 1 to 10\")\n",
    "while True:\n",
    "  players_guess=int(input(\"Enter your Guess: \"))\n",
    "  if players_guess==computer_guess:\n",
    "    print(\"Congratulations!!You guessed right..!\")\n",
    "    break\n",
    "  elif players_guess>computer_guess:\n",
    "    print(\"Your Guess is too High!\")\n",
    "  elif players_guess<computer_guess:\n",
    "    print(\"you Guess is too Low!\")\n",
    "  else:\n",
    "    print(\"Invalid Input\")"
   ]
  },
  {
   "cell_type": "code",
   "execution_count": null,
   "id": "e4fbe793",
   "metadata": {},
   "outputs": [],
   "source": []
  }
 ],
 "metadata": {
  "kernelspec": {
   "display_name": "Python 3 (ipykernel)",
   "language": "python",
   "name": "python3"
  },
  "language_info": {
   "codemirror_mode": {
    "name": "ipython",
    "version": 3
   },
   "file_extension": ".py",
   "mimetype": "text/x-python",
   "name": "python",
   "nbconvert_exporter": "python",
   "pygments_lexer": "ipython3",
   "version": "3.11.5"
  }
 },
 "nbformat": 4,
 "nbformat_minor": 5
}
